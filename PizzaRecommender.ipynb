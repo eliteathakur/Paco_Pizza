{
 "cells": [
  {
   "cell_type": "code",
   "execution_count": 11,
   "metadata": {},
   "outputs": [],
   "source": [
    "import pandas as pd\n",
    "import numpy as np\n",
    "import random\n",
    "from datetime import datetime, timedelta, date"
   ]
  },
  {
   "cell_type": "code",
   "execution_count": 12,
   "metadata": {},
   "outputs": [
    {
     "name": "stdout",
     "output_type": "stream",
     "text": [
      "Requirement already satisfied: openpyxl in /Library/Frameworks/Python.framework/Versions/3.9/lib/python3.9/site-packages (3.1.2)\n",
      "Requirement already satisfied: et-xmlfile in /Library/Frameworks/Python.framework/Versions/3.9/lib/python3.9/site-packages (from openpyxl) (1.1.0)\n",
      "Note: you may need to restart the kernel to use updated packages.\n"
     ]
    }
   ],
   "source": [
    "%pip install openpyxl\n",
    "import openpyxl"
   ]
  },
  {
   "cell_type": "code",
   "execution_count": 13,
   "metadata": {},
   "outputs": [],
   "source": [
    "def dataJoin(df : pd.DataFrame) -> pd.DataFrame:\n",
    "    \"\"\"\n",
    "    The function uses data in the form of a menu, where the first column is the pizza type and the second column are\n",
    "    its ingredients. We implement this to the original dataset of pizzas. This function was essential as the original\n",
    "    menu had only 4 pizzas, therefore, more variety was needed.    \n",
    "    \"\"\"\n",
    "\n",
    "    data = {\n",
    "        'pizza_category': ['Margherita', 'Pepperoni', 'Hawaiian', 'BBQ Chicken', 'Vegetarian',\n",
    "                    'Meat Feast', 'Four Cheese', 'Mushroom', 'Buffalo Chicken',\n",
    "                    'Mediterranean', 'Supreme', 'Pesto Chicken', 'Vegan', 'Capricciosa',\n",
    "                    'Truffle'],\n",
    "        'pizza_ingredients': [\n",
    "            ['Tomato sauce', 'Mozzarella cheese', 'Basil'],\n",
    "            ['Tomato sauce', 'Mozzarella cheese', 'Pepperoni'],\n",
    "            ['Tomato sauce', 'Mozzarella cheese', 'Ham', 'Pineapple'],\n",
    "            ['BBQ sauce', 'Mozzarella cheese', 'Grilled chicken', 'Red onions', 'Cilantro'],\n",
    "            ['Tomato sauce', 'Mozzarella cheese', 'Mushrooms', 'Bell peppers', 'Black olives', 'Onions', 'Spinach'],\n",
    "            ['Tomato sauce', 'Mozzarella cheese', 'Pepperoni', 'Sausage', 'Bacon', 'Ground beef'],\n",
    "            ['Tomato sauce', 'Mozzarella cheese', 'Cheddar cheese', 'Parmesan cheese', 'Gorgonzola cheese'],\n",
    "            ['Tomato sauce', 'Mozzarella cheese', 'Mushrooms'],\n",
    "            ['Buffalo sauce', 'Mozzarella cheese', 'Grilled chicken', 'Red onions'],\n",
    "            ['Tomato sauce', 'Mozzarella cheese', 'Black olives', 'Feta cheese', 'Spinach', 'Sun-dried tomatoes'],\n",
    "            ['Tomato sauce', 'Mozzarella cheese', 'Pepperoni', 'Sausage', 'Bell peppers', 'Onions', 'Black olives'],\n",
    "            ['Pesto sauce', 'Mozzarella cheese', 'Grilled chicken', 'Sun-dried tomatoes', 'Artichokes', 'Pine nuts'],\n",
    "            ['Tomato sauce', 'Vegan cheese', 'Mushrooms', 'Bell peppers', 'Black olives', 'Onions', 'Spinach'],\n",
    "            ['Tomato sauce', 'Mozzarella cheese', 'Ham', 'Mushrooms', 'Artichokes', 'Black olives', 'Oregano'],\n",
    "            ['White truffle oil', 'Mozzarella cheese', 'Mushrooms', 'Parmesan cheese', 'Arugula']\n",
    "        ]\n",
    "    }\n",
    "\n",
    "    additional_df = pd.DataFrame(data)\n",
    "    additional_df\n",
    "    addi = [df, additional_df]\n",
    "    df = pd.concat(addi, ignore_index = True)\n",
    "    return df"
   ]
  },
  {
   "attachments": {},
   "cell_type": "markdown",
   "metadata": {},
   "source": [
    "### All types of Pizza and Ingredients"
   ]
  },
  {
   "cell_type": "code",
   "execution_count": 14,
   "metadata": {},
   "outputs": [],
   "source": [
    "\n",
    "def pizzaAndIngredients(df : pd.DataFrame) -> pd.DataFrame:\n",
    "\n",
    "    \"\"\"\n",
    "    This function takes in the dataframe and creates two different dataframes which account for the variety\n",
    "    of pizzas and the variety of ingredients. The ingredients dataframe has the ingredient, the pizza that \n",
    "    uses this ingredient.\n",
    "    \"\"\"\n",
    "    all_ingredients = {}\n",
    "    all_pizzas = {}\n",
    "\n",
    "    # iterate over orders\n",
    "    for index, order in df.iterrows():\n",
    "        pizza = df.iloc[index, 0]\n",
    "        ingredients = df.iloc[index, 1]\n",
    "\n",
    "        # all things the pizza is made out of\n",
    "        for product in ingredients:\n",
    "            if product not in all_ingredients:\n",
    "                all_ingredients[product] = [pizza]\n",
    "            else:\n",
    "                if pizza not in all_ingredients[product]:\n",
    "                    # Convert DataFrame to list before appending pizza\n",
    "                    if isinstance(all_ingredients[product], pd.DataFrame):\n",
    "                        all_ingredients[product] = all_ingredients[product]['Pizzas'].tolist()\n",
    "                    all_ingredients[product].append(pizza)\n",
    "\n",
    "        if pizza not in all_pizzas:\n",
    "            all_pizzas[pizza] = ingredients\n",
    "\n",
    "    all_ingredients = pd.DataFrame(list(all_ingredients.items()), columns=['Ingredients', 'Pizzas'])\n",
    "    return all_ingredients, all_pizzas\n"
   ]
  },
  {
   "cell_type": "code",
   "execution_count": 15,
   "metadata": {},
   "outputs": [],
   "source": [
    "def expiryGen(all_ingredients : pd.DataFrame) -> pd.DataFrame:\n",
    "    \"\"\"\n",
    "    This function appends the expiry date which is generated randomly over as a date over the next 7 days, and adds \n",
    "    a column for the expiry date.\n",
    "    \"\"\"\n",
    "    #today\n",
    "    today = date.today()\n",
    "\n",
    "    all_ingredients[\"Expiry Date\"] = None\n",
    "    for index, row in all_ingredients.iterrows():\n",
    "\n",
    "        #random range\n",
    "        random_days = random.randint(0, 7)\n",
    "\n",
    "        #assigning random day over next 7 days\n",
    "        all_ingredients.iloc[index,2]= today + timedelta(days=random_days)\n",
    "\n",
    "    return all_ingredients\n",
    "\n"
   ]
  },
  {
   "cell_type": "code",
   "execution_count": 16,
   "metadata": {},
   "outputs": [],
   "source": [
    "def recommend(all_ingredients : pd.DataFrame, expiry : list) -> list:\n",
    "    \"\"\" \n",
    "    We use this function as a recommendation system.\n",
    "    \"\"\"\n",
    "    recommendation = []\n",
    "    for i in range(len(expiry)):\n",
    "        if expiry[i] == True:\n",
    "            if len(all_ingredients.iloc[i, 1]) >= 3:\n",
    "                continue\n",
    "            for pizza in all_ingredients.iloc[i, 1]:\n",
    "                if pizza not in recommendation:\n",
    "                    recommendation.append(pizza)\n",
    "    \n",
    "    return recommendation\n"
   ]
  },
  {
   "cell_type": "code",
   "execution_count": 17,
   "metadata": {},
   "outputs": [],
   "source": [
    "def main():\n",
    "    df = pd.read_excel(\"./pacos pizza dataset.xlsx\")\n",
    "    df = df.drop(df.iloc[:, 0:8],axis = 1)\n",
    "    df['pizza_ingredients'] = df['pizza_ingredients'].apply(lambda x: [ingredient.strip() for ingredient in x.split(',')])\n",
    "    df = dataJoin(df)\n",
    "    all_ingredients, all_pizzas = pizzaAndIngredients(df)\n",
    "    all_ingredients = expiryGen(all_ingredients)\n",
    "    almost_expired = all_ingredients['Expiry Date'] - date.today() <= pd.Timedelta(days = 1)\n",
    "    \n",
    "    # print(recommend(all_ingredients, almost_expired))\n",
    "    \n",
    "    #setting seed for controlled random result\n",
    "    random.seed(9933)\n",
    "    return recommend(all_ingredients, almost_expired)"
   ]
  },
  {
   "cell_type": "code",
   "execution_count": 20,
   "metadata": {},
   "outputs": [
    {
     "data": {
      "text/plain": [
       "['Classic', 'BBQ Chicken', 'Buffalo Chicken', 'Pesto Chicken']"
      ]
     },
     "execution_count": 20,
     "metadata": {},
     "output_type": "execute_result"
    }
   ],
   "source": [
    "main()"
   ]
  }
 ],
 "metadata": {
  "kernelspec": {
   "display_name": "Python 3",
   "language": "python",
   "name": "python3"
  },
  "language_info": {
   "codemirror_mode": {
    "name": "ipython",
    "version": 3
   },
   "file_extension": ".py",
   "mimetype": "text/x-python",
   "name": "python",
   "nbconvert_exporter": "python",
   "pygments_lexer": "ipython3",
   "version": "3.9.5"
  },
  "orig_nbformat": 4
 },
 "nbformat": 4,
 "nbformat_minor": 2
}
